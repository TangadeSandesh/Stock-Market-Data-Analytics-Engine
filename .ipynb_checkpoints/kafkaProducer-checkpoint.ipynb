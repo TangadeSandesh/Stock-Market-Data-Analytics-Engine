{
 "cells": [
  {
   "cell_type": "code",
   "execution_count": 12,
   "id": "d34e898d-a2a2-491a-bf0c-f7b4f2ad44a3",
   "metadata": {},
   "outputs": [
    {
     "name": "stdout",
     "output_type": "stream",
     "text": [
      "Requirement already satisfied: kafka-python in /home/sandesh-on-linux/miniforge3/envs/jupy/lib/python3.10/site-packages (2.0.2)\n"
     ]
    }
   ],
   "source": [
    "!pip install kafka-python"
   ]
  },
  {
   "cell_type": "code",
   "execution_count": 13,
   "id": "db77d9ef-10a0-4c04-9d26-3127fdac4a39",
   "metadata": {},
   "outputs": [],
   "source": [
    "import pandas as pd\n",
    "from kafka import KafkaProducer, KafkaConsumer\n",
    "from time import sleep\n",
    "from json import dumps\n",
    "import json\n"
   ]
  },
  {
   "cell_type": "code",
   "execution_count": 14,
   "id": "ef90da7b-8b88-41a6-8d5c-f474c175a59b",
   "metadata": {},
   "outputs": [],
   "source": [
    "producer = KafkaProducer(bootstrap_servers=['13.60.35.35:9092'],\n",
    "                         value_serializer = lambda x:\n",
    "                         dumps(x).encode('utf-8'))"
   ]
  },
  {
   "cell_type": "code",
   "execution_count": 16,
   "id": "2c63b669-9bf3-45ca-a920-83ea33a877b9",
   "metadata": {},
   "outputs": [
    {
     "data": {
      "text/plain": [
       "<kafka.producer.future.FutureRecordMetadata at 0x7f06557bdb10>"
      ]
     },
     "execution_count": 16,
     "metadata": {},
     "output_type": "execute_result"
    }
   ],
   "source": [
    "producer.send('Demo_Test', value={'Sandesh':'Tangade'})"
   ]
  },
  {
   "cell_type": "code",
   "execution_count": null,
   "id": "c76c2552-4433-4299-b7ca-2889a21dc4de",
   "metadata": {},
   "outputs": [],
   "source": []
  },
  {
   "cell_type": "code",
   "execution_count": null,
   "id": "71780477-3832-4a01-a0f6-e5d72d5e15c3",
   "metadata": {},
   "outputs": [],
   "source": []
  }
 ],
 "metadata": {
  "kernelspec": {
   "display_name": "Python 3 (ipykernel)",
   "language": "python",
   "name": "python3"
  },
  "language_info": {
   "codemirror_mode": {
    "name": "ipython",
    "version": 3
   },
   "file_extension": ".py",
   "mimetype": "text/x-python",
   "name": "python",
   "nbconvert_exporter": "python",
   "pygments_lexer": "ipython3",
   "version": "3.10.0"
  }
 },
 "nbformat": 4,
 "nbformat_minor": 5
}
